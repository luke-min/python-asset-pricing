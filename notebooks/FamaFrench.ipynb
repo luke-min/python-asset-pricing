{
 "cells": [
  {
   "cell_type": "markdown",
   "source": [
    "# Replication of Fama-French\n",
    "\n",
    "Follow along tidy finance : [Link](https://www.tidy-finance.org/python/replicating-fama-and-french-factors.html)"
   ],
   "metadata": {
    "collapsed": false
   },
   "id": "4dbaca482cd17ef0"
  },
  {
   "cell_type": "code",
   "outputs": [],
   "source": [
    "# Packages\n",
    "import pandas as pd\n",
    "import numpy as np\n",
    "import sqlite3\n",
    "import statsmodels.formula.api as smf\n",
    "\n",
    "# For FF3 data\n",
    "import pandas_datareader as pdr\n",
    "\n",
    "# For outputting regression tables\n",
    "from regtabletotext import prettify_result"
   ],
   "metadata": {
    "collapsed": false,
    "ExecuteTime": {
     "end_time": "2024-04-10T22:39:35.566451Z",
     "start_time": "2024-04-10T22:39:32.971522Z"
    }
   },
   "id": "ac4a185bc891c1ff",
   "execution_count": 1
  },
  {
   "cell_type": "code",
   "outputs": [],
   "source": [
    "start_date = \"1960-01-01\"\n",
    "end_date   = \"2023-12-31\""
   ],
   "metadata": {
    "collapsed": false,
    "ExecuteTime": {
     "end_time": "2024-04-10T22:39:35.574974Z",
     "start_time": "2024-04-10T22:39:35.569643Z"
    }
   },
   "id": "ee0fdaa4381e60bf",
   "execution_count": 2
  },
  {
   "cell_type": "code",
   "execution_count": 3,
   "id": "initial_id",
   "metadata": {
    "collapsed": true,
    "ExecuteTime": {
     "end_time": "2024-04-10T22:39:36.115144Z",
     "start_time": "2024-04-10T22:39:35.578979Z"
    }
   },
   "outputs": [
    {
     "name": "stderr",
     "output_type": "stream",
     "text": [
      "/var/folders/fw/ccvwsj857433zz3m609ks6h00000gn/T/ipykernel_4450/3144967270.py:2: FutureWarning: The argument 'date_parser' is deprecated and will be removed in a future version. Please use 'date_format' instead, or read your data in as 'object' dtype and then call 'to_datetime'.\n",
      "  factors_ff3_monthly_raw = pdr.DataReader(\n",
      "/var/folders/fw/ccvwsj857433zz3m609ks6h00000gn/T/ipykernel_4450/3144967270.py:2: FutureWarning: The argument 'date_parser' is deprecated and will be removed in a future version. Please use 'date_format' instead, or read your data in as 'object' dtype and then call 'to_datetime'.\n",
      "  factors_ff3_monthly_raw = pdr.DataReader(\n"
     ]
    }
   ],
   "source": [
    "# Download from the web\n",
    "factors_ff3_monthly_raw = pdr.DataReader(\n",
    "    name        = \"F-F_Research_Data_Factors\",\n",
    "    data_source = \"famafrench\",\n",
    "    start       = start_date,\n",
    "    end         = end_date\n",
    ")[0]\n",
    "\n",
    "# Scale, reset index, etc.\n",
    "factors_ff3_monthly = (factors_ff3_monthly_raw\n",
    "  .divide(100)\n",
    "  .reset_index(names=\"month\")\n",
    "  .assign(month=lambda x: pd.to_datetime(x[\"month\"].astype(str)))\n",
    "  .rename(str.lower, axis=\"columns\")\n",
    "  .rename(columns={\"mkt-rf\": \"mkt_excess\"})\n",
    ")"
   ]
  },
  {
   "cell_type": "code",
   "outputs": [
    {
     "data": {
      "text/plain": "       month  mkt_excess     smb     hml      rf\n0 1960-01-01     -0.0698  0.0209  0.0278  0.0033\n1 1960-02-01      0.0117  0.0051 -0.0193  0.0029\n2 1960-03-01     -0.0163 -0.0049 -0.0294  0.0035\n3 1960-04-01     -0.0171  0.0032 -0.0228  0.0019\n4 1960-05-01      0.0312  0.0121 -0.0370  0.0027",
      "text/html": "<div>\n<style scoped>\n    .dataframe tbody tr th:only-of-type {\n        vertical-align: middle;\n    }\n\n    .dataframe tbody tr th {\n        vertical-align: top;\n    }\n\n    .dataframe thead th {\n        text-align: right;\n    }\n</style>\n<table border=\"1\" class=\"dataframe\">\n  <thead>\n    <tr style=\"text-align: right;\">\n      <th></th>\n      <th>month</th>\n      <th>mkt_excess</th>\n      <th>smb</th>\n      <th>hml</th>\n      <th>rf</th>\n    </tr>\n  </thead>\n  <tbody>\n    <tr>\n      <th>0</th>\n      <td>1960-01-01</td>\n      <td>-0.0698</td>\n      <td>0.0209</td>\n      <td>0.0278</td>\n      <td>0.0033</td>\n    </tr>\n    <tr>\n      <th>1</th>\n      <td>1960-02-01</td>\n      <td>0.0117</td>\n      <td>0.0051</td>\n      <td>-0.0193</td>\n      <td>0.0029</td>\n    </tr>\n    <tr>\n      <th>2</th>\n      <td>1960-03-01</td>\n      <td>-0.0163</td>\n      <td>-0.0049</td>\n      <td>-0.0294</td>\n      <td>0.0035</td>\n    </tr>\n    <tr>\n      <th>3</th>\n      <td>1960-04-01</td>\n      <td>-0.0171</td>\n      <td>0.0032</td>\n      <td>-0.0228</td>\n      <td>0.0019</td>\n    </tr>\n    <tr>\n      <th>4</th>\n      <td>1960-05-01</td>\n      <td>0.0312</td>\n      <td>0.0121</td>\n      <td>-0.0370</td>\n      <td>0.0027</td>\n    </tr>\n  </tbody>\n</table>\n</div>"
     },
     "execution_count": 4,
     "metadata": {},
     "output_type": "execute_result"
    }
   ],
   "source": [
    "factors_ff3_monthly.head()"
   ],
   "metadata": {
    "collapsed": false,
    "ExecuteTime": {
     "end_time": "2024-04-10T22:39:36.151201Z",
     "start_time": "2024-04-10T22:39:36.123022Z"
    }
   },
   "id": "5390a43708310c86",
   "execution_count": 4
  },
  {
   "cell_type": "code",
   "outputs": [
    {
     "data": {
      "text/plain": "768"
     },
     "execution_count": 8,
     "metadata": {},
     "output_type": "execute_result"
    }
   ],
   "source": [
    "# Set up database\n",
    "# connection = sqlite3.connect(\"data/test.db\")\n",
    "tidy_finance = sqlite3.connect(database=\"../data/tidy_finance_python.sqlite\")\n",
    "\n",
    "(factors_ff3_monthly\n",
    " .to_sql(name      = \"factors_ff3_monthly\",\n",
    "         con       = tidy_finance,\n",
    "         if_exists = \"replace\",\n",
    "         index     = False)\n",
    " )\n"
   ],
   "metadata": {
    "collapsed": false,
    "ExecuteTime": {
     "end_time": "2024-04-10T22:43:21.063483Z",
     "start_time": "2024-04-10T22:43:21.038193Z"
    }
   },
   "id": "6f7fff2012917dc6",
   "execution_count": 8
  },
  {
   "cell_type": "code",
   "outputs": [
    {
     "name": "stdout",
     "output_type": "stream",
     "text": [
      "768\n"
     ]
    }
   ],
   "source": [
    "print(tidy_finance.total_changes)"
   ],
   "metadata": {
    "collapsed": false,
    "ExecuteTime": {
     "end_time": "2024-04-10T22:43:27.022078Z",
     "start_time": "2024-04-10T22:43:27.016323Z"
    }
   },
   "id": "7c04675ebb7c1ef9",
   "execution_count": 9
  },
  {
   "cell_type": "code",
   "outputs": [
    {
     "data": {
      "text/plain": "         month      rf\n0   1960-01-01  0.0033\n1   1960-02-01  0.0029\n2   1960-03-01  0.0035\n3   1960-04-01  0.0019\n4   1960-05-01  0.0027\n..         ...     ...\n763 2023-08-01  0.0045\n764 2023-09-01  0.0043\n765 2023-10-01  0.0047\n766 2023-11-01  0.0044\n767 2023-12-01  0.0043\n\n[768 rows x 2 columns]",
      "text/html": "<div>\n<style scoped>\n    .dataframe tbody tr th:only-of-type {\n        vertical-align: middle;\n    }\n\n    .dataframe tbody tr th {\n        vertical-align: top;\n    }\n\n    .dataframe thead th {\n        text-align: right;\n    }\n</style>\n<table border=\"1\" class=\"dataframe\">\n  <thead>\n    <tr style=\"text-align: right;\">\n      <th></th>\n      <th>month</th>\n      <th>rf</th>\n    </tr>\n  </thead>\n  <tbody>\n    <tr>\n      <th>0</th>\n      <td>1960-01-01</td>\n      <td>0.0033</td>\n    </tr>\n    <tr>\n      <th>1</th>\n      <td>1960-02-01</td>\n      <td>0.0029</td>\n    </tr>\n    <tr>\n      <th>2</th>\n      <td>1960-03-01</td>\n      <td>0.0035</td>\n    </tr>\n    <tr>\n      <th>3</th>\n      <td>1960-04-01</td>\n      <td>0.0019</td>\n    </tr>\n    <tr>\n      <th>4</th>\n      <td>1960-05-01</td>\n      <td>0.0027</td>\n    </tr>\n    <tr>\n      <th>...</th>\n      <td>...</td>\n      <td>...</td>\n    </tr>\n    <tr>\n      <th>763</th>\n      <td>2023-08-01</td>\n      <td>0.0045</td>\n    </tr>\n    <tr>\n      <th>764</th>\n      <td>2023-09-01</td>\n      <td>0.0043</td>\n    </tr>\n    <tr>\n      <th>765</th>\n      <td>2023-10-01</td>\n      <td>0.0047</td>\n    </tr>\n    <tr>\n      <th>766</th>\n      <td>2023-11-01</td>\n      <td>0.0044</td>\n    </tr>\n    <tr>\n      <th>767</th>\n      <td>2023-12-01</td>\n      <td>0.0043</td>\n    </tr>\n  </tbody>\n</table>\n<p>768 rows × 2 columns</p>\n</div>"
     },
     "execution_count": 10,
     "metadata": {},
     "output_type": "execute_result"
    }
   ],
   "source": [
    "# In the future, if you want to read in table to memory\n",
    "pd.read_sql_query(\n",
    "    sql         = \"SELECT month, rf FROM factors_ff3_monthly\",\n",
    "    con         = tidy_finance,\n",
    "    parse_dates = {\"month\"}\n",
    ")"
   ],
   "metadata": {
    "collapsed": false,
    "ExecuteTime": {
     "end_time": "2024-04-10T22:44:51.892272Z",
     "start_time": "2024-04-10T22:44:51.873273Z"
    }
   },
   "id": "b20f3458fdb3b651",
   "execution_count": 10
  },
  {
   "cell_type": "code",
   "outputs": [],
   "source": [
    "import yfinance as yf\n",
    "\n",
    "prices = (yf.download(\n",
    "    tickers=\"AAPL\", \n",
    "    start=\"2000-01-01\", \n",
    "    end=\"2022-12-31\", \n",
    "    progress=False\n",
    "  )\n",
    "  .reset_index()\n",
    "  .assign(symbol=\"AAPL\")\n",
    "  .rename(columns={\n",
    "    \"Date\": \"date\", \n",
    "    \"Open\": \"open\", \n",
    "    \"High\": \"high\",\n",
    "    \"Low\": \"low\",\n",
    "    \"Close\": \"close\", \n",
    "    \"Adj Close\": \"adjusted\", \n",
    "    \"Volume\": \"volume\"}\n",
    "  )\n",
    ")"
   ],
   "metadata": {
    "collapsed": false,
    "ExecuteTime": {
     "end_time": "2024-04-10T22:52:47.477244Z",
     "start_time": "2024-04-10T22:52:46.720049Z"
    }
   },
   "id": "6e53091cd8f9a2d4",
   "execution_count": 12
  },
  {
   "cell_type": "code",
   "outputs": [
    {
     "data": {
      "text/plain": "        Date   Open   High    Low  Close  Adj Close     Volume symbol\n0 2000-01-03  0.936  1.004  0.908  0.999      0.846  535796800   AAPL\n1 2000-01-04  0.967  0.988  0.903  0.915      0.775  512377600   AAPL\n2 2000-01-05  0.926  0.987  0.920  0.929      0.786  778321600   AAPL\n3 2000-01-06  0.948  0.955  0.848  0.848      0.718  767972800   AAPL\n4 2000-01-07  0.862  0.902  0.853  0.888      0.752  460734400   AAPL",
      "text/html": "<div>\n<style scoped>\n    .dataframe tbody tr th:only-of-type {\n        vertical-align: middle;\n    }\n\n    .dataframe tbody tr th {\n        vertical-align: top;\n    }\n\n    .dataframe thead th {\n        text-align: right;\n    }\n</style>\n<table border=\"1\" class=\"dataframe\">\n  <thead>\n    <tr style=\"text-align: right;\">\n      <th></th>\n      <th>Date</th>\n      <th>Open</th>\n      <th>High</th>\n      <th>Low</th>\n      <th>Close</th>\n      <th>Adj Close</th>\n      <th>Volume</th>\n      <th>symbol</th>\n    </tr>\n  </thead>\n  <tbody>\n    <tr>\n      <th>0</th>\n      <td>2000-01-03</td>\n      <td>0.936</td>\n      <td>1.004</td>\n      <td>0.908</td>\n      <td>0.999</td>\n      <td>0.846</td>\n      <td>535796800</td>\n      <td>AAPL</td>\n    </tr>\n    <tr>\n      <th>1</th>\n      <td>2000-01-04</td>\n      <td>0.967</td>\n      <td>0.988</td>\n      <td>0.903</td>\n      <td>0.915</td>\n      <td>0.775</td>\n      <td>512377600</td>\n      <td>AAPL</td>\n    </tr>\n    <tr>\n      <th>2</th>\n      <td>2000-01-05</td>\n      <td>0.926</td>\n      <td>0.987</td>\n      <td>0.920</td>\n      <td>0.929</td>\n      <td>0.786</td>\n      <td>778321600</td>\n      <td>AAPL</td>\n    </tr>\n    <tr>\n      <th>3</th>\n      <td>2000-01-06</td>\n      <td>0.948</td>\n      <td>0.955</td>\n      <td>0.848</td>\n      <td>0.848</td>\n      <td>0.718</td>\n      <td>767972800</td>\n      <td>AAPL</td>\n    </tr>\n    <tr>\n      <th>4</th>\n      <td>2000-01-07</td>\n      <td>0.862</td>\n      <td>0.902</td>\n      <td>0.853</td>\n      <td>0.888</td>\n      <td>0.752</td>\n      <td>460734400</td>\n      <td>AAPL</td>\n    </tr>\n  </tbody>\n</table>\n</div>"
     },
     "execution_count": 18,
     "metadata": {},
     "output_type": "execute_result"
    }
   ],
   "source": [
    "prices = yf.download(\n",
    "    tickers=\"AAPL\", \n",
    "    start=\"2000-01-01\", \n",
    "    end=\"2022-12-31\", \n",
    "    progress=False\n",
    "  ).reset_index().assign(symbol=\"AAPL\")\n",
    "\n",
    "\n",
    "\n",
    "prices.head().round(3)"
   ],
   "metadata": {
    "collapsed": false,
    "ExecuteTime": {
     "end_time": "2024-04-10T22:54:50.173020Z",
     "start_time": "2024-04-10T22:54:49.351464Z"
    }
   },
   "id": "d631f484d3b16222",
   "execution_count": 18
  },
  {
   "cell_type": "code",
   "outputs": [
    {
     "data": {
      "text/plain": "        date   open   high    low  close  adjusted     volume symbol\n0 2000-01-03  0.936  1.004  0.908  0.999     0.846  535796800   AAPL\n1 2000-01-04  0.967  0.988  0.903  0.915     0.775  512377600   AAPL\n2 2000-01-05  0.926  0.987  0.920  0.929     0.786  778321600   AAPL\n3 2000-01-06  0.948  0.955  0.848  0.848     0.718  767972800   AAPL\n4 2000-01-07  0.862  0.902  0.853  0.888     0.752  460734400   AAPL",
      "text/html": "<div>\n<style scoped>\n    .dataframe tbody tr th:only-of-type {\n        vertical-align: middle;\n    }\n\n    .dataframe tbody tr th {\n        vertical-align: top;\n    }\n\n    .dataframe thead th {\n        text-align: right;\n    }\n</style>\n<table border=\"1\" class=\"dataframe\">\n  <thead>\n    <tr style=\"text-align: right;\">\n      <th></th>\n      <th>date</th>\n      <th>open</th>\n      <th>high</th>\n      <th>low</th>\n      <th>close</th>\n      <th>adjusted</th>\n      <th>volume</th>\n      <th>symbol</th>\n    </tr>\n  </thead>\n  <tbody>\n    <tr>\n      <th>0</th>\n      <td>2000-01-03</td>\n      <td>0.936</td>\n      <td>1.004</td>\n      <td>0.908</td>\n      <td>0.999</td>\n      <td>0.846</td>\n      <td>535796800</td>\n      <td>AAPL</td>\n    </tr>\n    <tr>\n      <th>1</th>\n      <td>2000-01-04</td>\n      <td>0.967</td>\n      <td>0.988</td>\n      <td>0.903</td>\n      <td>0.915</td>\n      <td>0.775</td>\n      <td>512377600</td>\n      <td>AAPL</td>\n    </tr>\n    <tr>\n      <th>2</th>\n      <td>2000-01-05</td>\n      <td>0.926</td>\n      <td>0.987</td>\n      <td>0.920</td>\n      <td>0.929</td>\n      <td>0.786</td>\n      <td>778321600</td>\n      <td>AAPL</td>\n    </tr>\n    <tr>\n      <th>3</th>\n      <td>2000-01-06</td>\n      <td>0.948</td>\n      <td>0.955</td>\n      <td>0.848</td>\n      <td>0.848</td>\n      <td>0.718</td>\n      <td>767972800</td>\n      <td>AAPL</td>\n    </tr>\n    <tr>\n      <th>4</th>\n      <td>2000-01-07</td>\n      <td>0.862</td>\n      <td>0.902</td>\n      <td>0.853</td>\n      <td>0.888</td>\n      <td>0.752</td>\n      <td>460734400</td>\n      <td>AAPL</td>\n    </tr>\n  </tbody>\n</table>\n</div>"
     },
     "execution_count": 14,
     "metadata": {},
     "output_type": "execute_result"
    }
   ],
   "source": [],
   "metadata": {
    "collapsed": false,
    "ExecuteTime": {
     "end_time": "2024-04-10T22:52:57.590015Z",
     "start_time": "2024-04-10T22:52:57.567522Z"
    }
   },
   "id": "bf08b7c9804dee93",
   "execution_count": 14
  },
  {
   "cell_type": "code",
   "outputs": [],
   "source": [],
   "metadata": {
    "collapsed": false
   },
   "id": "b6e115a3a7a96e29"
  }
 ],
 "metadata": {
  "kernelspec": {
   "display_name": "Python 3",
   "language": "python",
   "name": "python3"
  },
  "language_info": {
   "codemirror_mode": {
    "name": "ipython",
    "version": 2
   },
   "file_extension": ".py",
   "mimetype": "text/x-python",
   "name": "python",
   "nbconvert_exporter": "python",
   "pygments_lexer": "ipython2",
   "version": "2.7.6"
  }
 },
 "nbformat": 4,
 "nbformat_minor": 5
}
